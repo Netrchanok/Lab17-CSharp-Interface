{
 "cells": [
  {
   "cell_type": "markdown",
   "metadata": {},
   "source": [
    "# Lab 17 Exercise 6"
   ]
  },
  {
   "cell_type": "markdown",
   "metadata": {},
   "source": [
    "## Interface (Remote Control)"
   ]
  },
  {
   "cell_type": "markdown",
   "metadata": {},
   "source": [
    "1.สร้าง console application project\n",
    "\n",
    "```cmd\n",
    "dotnet new console --name Lab17_Ex06\n",
    "```"
   ]
  },
  {
   "cell_type": "markdown",
   "metadata": {},
   "source": [
    "2.เปลี่ยน code ให้เป็นดังต่อไปนี้\n",
    "\n",
    "```cs\n",
    "Television myTV = new SonyTV();\n",
    "myTV.Wattage = 100;\n",
    "myTV.TurnOn();\n",
    "myTV.ChannelUp();\n",
    "myTV.ChannelDown();\n",
    "myTV.TurnOff();\n",
    "\n",
    "Lamp myLamp = new DesktopLamp();\n",
    "myLamp.Wattage = 50;\n",
    "myLamp.TurnOn();\n",
    "myLamp.ChannelUp();\n",
    "myLamp.ChannelDown();\n",
    "myLamp.TurnOff();\n",
    "\n",
    "interface IRemoteControl\n",
    "{\n",
    "    public void TurnOn();\n",
    "    public void TurnOff();\n",
    "    public void ChannelUp();\n",
    "    public void ChannelDown();\n",
    "}\n",
    "abstract class PowerAppliance\n",
    "{\n",
    "    public bool PowerStatus;\n",
    "    public int Wattage;\n",
    "}\n",
    "class Television : PowerAppliance\n",
    "{\n",
    "    public int Channel { get; set; }\n",
    "}\n",
    "\n",
    "class Lamp : PowerAppliance\n",
    "{\n",
    "}\n",
    "\n",
    "\n",
    "class SonyTV : Television, IRemoteControl\n",
    "{\n",
    "    public void TurnOn() { System.Console.WriteLine(\"TV Turn on\"); PowerStatus = true; }\n",
    "    public void TurnOff() { System.Console.WriteLine(\"TV Turn off\"); PowerStatus = false; }\n",
    "    public void ChannelUp() { System.Console.WriteLine(\"TV Channel up\"); }\n",
    "    public void ChannelDown() { System.Console.WriteLine(\"TV Channel down\"); }\n",
    "}\n",
    "class DesktopLamp : Lamp, IRemoteControl\n",
    "{\n",
    "    public void TurnOn() { System.Console.WriteLine(\"Lamp Turn on\"); PowerStatus = true; }\n",
    "    public void TurnOff() { System.Console.WriteLine(\"Lamp Turn off\"); PowerStatus = false; }\n",
    "    public void ChannelUp() { System.Console.WriteLine(\"Lamp cannot change channel\"); }\n",
    "    public void ChannelDown() { System.Console.WriteLine(\"Lamp cannot change channel\"); }\n",
    "}\n",
    "```"
   ]
  },
  {
   "cell_type": "markdown",
   "metadata": {},
   "source": [
    "3.Build project โดยการใช้คำสั่ง\n",
    "\n",
    "```cmd\n",
    "dotnet build  Lab17_Ex06\n",
    "```\n",
    "\n",
    "ถ้ามีที่ผิดพลาดในโปรแกรม ให้แก้ไขให้ถูกต้อง"
   ]
  },
  {
   "cell_type": "code",
   "execution_count": 1,
   "metadata": {
    "polyglot_notebook": {
     "kernelName": "csharp"
    }
   },
   "outputs": [],
   "source": [
    "using System;\n",
    "\n",
    "interface IRemoteControl\n",
    "{\n",
    "    void TurnOn();\n",
    "    void TurnOff();\n",
    "    void ChannelUp();\n",
    "    void ChannelDown();\n",
    "}\n",
    "\n",
    "abstract class PowerAppliance\n",
    "{\n",
    "    public bool PowerStatus { get; protected set; }\n",
    "    public int Wattage { get; set; }\n",
    "}\n",
    "\n",
    "class Television : PowerAppliance, IRemoteControl\n",
    "{\n",
    "    public int Channel { get; set; }\n",
    "\n",
    "    public void TurnOn()\n",
    "    {\n",
    "        Console.WriteLine(\"TV Turn on\");\n",
    "        PowerStatus = true;\n",
    "    }\n",
    "\n",
    "    public void TurnOff()\n",
    "    {\n",
    "        Console.WriteLine(\"TV Turn off\");\n",
    "        PowerStatus = false;\n",
    "    }\n",
    "\n",
    "    public void ChannelUp()\n",
    "    {\n",
    "        Channel++;\n",
    "        Console.WriteLine($\"TV Channel up to {Channel}\");\n",
    "    }\n",
    "\n",
    "    public void ChannelDown()\n",
    "    {\n",
    "        Channel--;\n",
    "        Console.WriteLine($\"TV Channel down to {Channel}\");\n",
    "    }\n",
    "}\n",
    "\n",
    "class Lamp : PowerAppliance, IRemoteControl\n",
    "{\n",
    "    // Lamp doesn't support channels, but it inherits PowerAppliance\n",
    "\n",
    "    public void TurnOn()\n",
    "    {\n",
    "        Console.WriteLine(\"Lamp Turn on\");\n",
    "        PowerStatus = true;\n",
    "    }\n",
    "\n",
    "    public void TurnOff()\n",
    "    {\n",
    "        Console.WriteLine(\"Lamp Turn off\");\n",
    "        PowerStatus = false;\n",
    "    }\n",
    "\n",
    "    public void ChannelUp()\n",
    "    {\n",
    "        Console.WriteLine(\"Lamp cannot change channel\");\n",
    "    }\n",
    "\n",
    "    public void ChannelDown()\n",
    "    {\n",
    "        Console.WriteLine(\"Lamp cannot change channel\");\n",
    "    }\n",
    "}\n",
    "\n",
    "class SonyTV : Television\n",
    "{\n",
    "    // SonyTV doesn't need any change since we already implemented the methods in Television\n",
    "}\n",
    "\n",
    "class DesktopLamp : Lamp\n",
    "{\n",
    "    // DesktopLamp doesn't need any change since we already implemented the methods in Lamp\n",
    "}\n",
    "\n",
    "class Program\n",
    "{\n",
    "    static void Main()\n",
    "    {\n",
    "        Television myTV = new SonyTV();\n",
    "        myTV.Wattage = 100;\n",
    "        myTV.TurnOn();\n",
    "        myTV.ChannelUp();\n",
    "        myTV.ChannelDown();\n",
    "        myTV.TurnOff();\n",
    "\n",
    "        Lamp myLamp = new DesktopLamp();\n",
    "        myLamp.Wattage = 50;\n",
    "        myLamp.TurnOn();\n",
    "        myLamp.ChannelUp();\n",
    "        myLamp.ChannelDown();\n",
    "        myLamp.TurnOff();\n",
    "    }\n",
    "}\n"
   ]
  },
  {
   "cell_type": "markdown",
   "metadata": {},
   "source": [
    "4.บันทึกผลที่ได้จากการรันคำสั่งในข้อ 3"
   ]
  },
  {
   "attachments": {
    "image.png": {
     "image/png": "[encoded data removed]"
    }
   },
   "cell_type": "markdown",
   "metadata": {},
   "source": [
    "![image.png](attachment:image.png)"
   ]
  },
  {
   "cell_type": "markdown",
   "metadata": {},
   "source": [
    "5.Run project โดยการใช้คำสั่ง\n",
    "\n",
    "```cmd\n",
    "dotnet run --project Lab17_Ex06\n",
    "```"
   ]
  },
  {
   "cell_type": "markdown",
   "metadata": {},
   "source": [
    "6.บันทึกผลที่ได้จากการรันคำสั่งในข้อ 5"
   ]
  },
  {
   "attachments": {
    "image.png": {
     "image/png": "[encoded data removed]"
    }
   },
   "cell_type": "markdown",
   "metadata": {},
   "source": [
    "![image.png](attachment:image.png)"
   ]
  },
  {
   "cell_type": "markdown",
   "metadata": {},
   "source": [
    "7.อธิบายสิ่งที่พบในการทดลอง"
   ]
  },
  {
   "cell_type": "markdown",
   "metadata": {},
   "source": [
    "ผลที่ได้คือการที่แต่ละคลาสสามารถควบคุมอุปกรณ์ไฟฟ้าได้ตามฟังก์ชันที่กำหนดใน IRemoteControl แต่มีความแตกต่างในฟังก์ชันที่รองรับ เช่น ทีวีสามารถเปลี่ยนช่องได้ ในขณะที่หลอดไฟไม่สามารถเปลี่ยนช่องได้"
   ]
  }
 ],
 "metadata": {
  "kernelspec": {
   "display_name": ".NET (C#)",
   "language": "C#",
   "name": ".net-csharp"
  },
  "polyglot_notebook": {
   "kernelInfo": {
    "defaultKernelName": "csharp",
    "items": [
     {
      "aliases": [],
      "languageName": "csharp",
      "name": "csharp"
     }
    ]
   }
  }
 },
 "nbformat": 4,
 "nbformat_minor": 2
}
